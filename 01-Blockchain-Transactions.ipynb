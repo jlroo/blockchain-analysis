{
 "cells": [
  {
   "cell_type": "markdown",
   "id": "9ffdb346",
   "metadata": {},
   "source": [
    "# Bitcoin Blockchain Transactions Analysis"
   ]
  },
  {
   "cell_type": "code",
   "execution_count": 74,
   "id": "c2a791fd",
   "metadata": {},
   "outputs": [],
   "source": [
    "import pandas as pd\n",
    "import os\n",
    "import json\n",
    "import matplotlib.pyplot as plt"
   ]
  },
  {
   "cell_type": "code",
   "execution_count": 2,
   "id": "9a2b2a14",
   "metadata": {},
   "outputs": [],
   "source": [
    "path = 'data/'\n",
    "files = [ i for i in os.listdir(path) if i.endswith('.csv')]"
   ]
  },
  {
   "cell_type": "code",
   "execution_count": 8,
   "id": "a81c9eaa",
   "metadata": {},
   "outputs": [],
   "source": [
    "blocks = []\n",
    "for i in files:\n",
    "    blocks.append(pd.read_csv(path + files[0]).drop(columns = ['Unnamed: 0']))"
   ]
  },
  {
   "cell_type": "code",
   "execution_count": 9,
   "id": "ed4fc013",
   "metadata": {},
   "outputs": [],
   "source": [
    "blocks_df = pd.concat(blocks)"
   ]
  },
  {
   "cell_type": "code",
   "execution_count": 11,
   "id": "997540c6",
   "metadata": {},
   "outputs": [
    {
     "data": {
      "text/plain": [
       "(21156300, 29)"
      ]
     },
     "execution_count": 11,
     "metadata": {},
     "output_type": "execute_result"
    }
   ],
   "source": [
    "blocks_df.shape"
   ]
  },
  {
   "cell_type": "code",
   "execution_count": 73,
   "id": "f025109a",
   "metadata": {},
   "outputs": [
    {
     "data": {
      "text/html": [
       "<div>\n",
       "<style scoped>\n",
       "    .dataframe tbody tr th:only-of-type {\n",
       "        vertical-align: middle;\n",
       "    }\n",
       "\n",
       "    .dataframe tbody tr th {\n",
       "        vertical-align: top;\n",
       "    }\n",
       "\n",
       "    .dataframe thead th {\n",
       "        text-align: right;\n",
       "    }\n",
       "</style>\n",
       "<table border=\"1\" class=\"dataframe\">\n",
       "  <thead>\n",
       "    <tr style=\"text-align: right;\">\n",
       "      <th></th>\n",
       "      <th>input_version</th>\n",
       "      <th>input_count</th>\n",
       "      <th>input_previous_hash</th>\n",
       "      <th>input_out_id</th>\n",
       "      <th>input_script_length</th>\n",
       "      <th>input_script_signature_raw</th>\n",
       "      <th>input_script_signature</th>\n",
       "      <th>input_seq_no</th>\n",
       "      <th>output_version</th>\n",
       "      <th>output_count</th>\n",
       "      <th>...</th>\n",
       "      <th>block_hash</th>\n",
       "      <th>block_datetime</th>\n",
       "      <th>block_timestamp</th>\n",
       "      <th>block_bits</th>\n",
       "      <th>block_nonce</th>\n",
       "      <th>block_transactions_count</th>\n",
       "      <th>block_date</th>\n",
       "      <th>block_time</th>\n",
       "      <th>block_size_MB</th>\n",
       "      <th>block_hour</th>\n",
       "    </tr>\n",
       "  </thead>\n",
       "  <tbody>\n",
       "    <tr>\n",
       "      <th>0</th>\n",
       "      <td>1</td>\n",
       "      <td>1</td>\n",
       "      <td>b'00000000000000000000000000000000000000000000...</td>\n",
       "      <td>b'ffffffff'</td>\n",
       "      <td>85</td>\n",
       "      <td>b'037ac50a04769770612f2ffabe6d6dd42d77b302a018...</td>\n",
       "      <td>b'037ac50a04769770612f2ffabe6d6dd42d77b302a018...</td>\n",
       "      <td>b'ffffffff'</td>\n",
       "      <td>1</td>\n",
       "      <td>4</td>\n",
       "      <td>...</td>\n",
       "      <td>b'cf43350ae1764f1be09f999850cb1662b80c551f28c2...</td>\n",
       "      <td>20.10.2021 17:25</td>\n",
       "      <td>1634768756</td>\n",
       "      <td>386794504</td>\n",
       "      <td>3936647432</td>\n",
       "      <td>4652</td>\n",
       "      <td>2021-10-20</td>\n",
       "      <td>17:25:00</td>\n",
       "      <td>1.451943</td>\n",
       "      <td>17</td>\n",
       "    </tr>\n",
       "    <tr>\n",
       "      <th>1</th>\n",
       "      <td>1</td>\n",
       "      <td>2</td>\n",
       "      <td>b'2e0037aa4d7281abf72461f7eafa9b5ca5ae36c3e938...</td>\n",
       "      <td>b'00000022'</td>\n",
       "      <td>0</td>\n",
       "      <td>b''</td>\n",
       "      <td>b''</td>\n",
       "      <td>b'fffffffd'</td>\n",
       "      <td>1</td>\n",
       "      <td>2</td>\n",
       "      <td>...</td>\n",
       "      <td>b'cf43350ae1764f1be09f999850cb1662b80c551f28c2...</td>\n",
       "      <td>20.10.2021 17:25</td>\n",
       "      <td>1634768756</td>\n",
       "      <td>386794504</td>\n",
       "      <td>3936647432</td>\n",
       "      <td>4652</td>\n",
       "      <td>2021-10-20</td>\n",
       "      <td>17:25:00</td>\n",
       "      <td>1.451943</td>\n",
       "      <td>17</td>\n",
       "    </tr>\n",
       "    <tr>\n",
       "      <th>2</th>\n",
       "      <td>1</td>\n",
       "      <td>2</td>\n",
       "      <td>b'52ff18efe24832ddc25f14f6ef3e971288762ef94514...</td>\n",
       "      <td>b'00000000'</td>\n",
       "      <td>0</td>\n",
       "      <td>b''</td>\n",
       "      <td>b''</td>\n",
       "      <td>b'fffffffd'</td>\n",
       "      <td>1</td>\n",
       "      <td>2</td>\n",
       "      <td>...</td>\n",
       "      <td>b'cf43350ae1764f1be09f999850cb1662b80c551f28c2...</td>\n",
       "      <td>20.10.2021 17:25</td>\n",
       "      <td>1634768756</td>\n",
       "      <td>386794504</td>\n",
       "      <td>3936647432</td>\n",
       "      <td>4652</td>\n",
       "      <td>2021-10-20</td>\n",
       "      <td>17:25:00</td>\n",
       "      <td>1.451943</td>\n",
       "      <td>17</td>\n",
       "    </tr>\n",
       "    <tr>\n",
       "      <th>3</th>\n",
       "      <td>2</td>\n",
       "      <td>1</td>\n",
       "      <td>b'af78b46dc6f4582a4975d7476a5dbdd9846fbe66418f...</td>\n",
       "      <td>b'00000004'</td>\n",
       "      <td>0</td>\n",
       "      <td>b''</td>\n",
       "      <td>b''</td>\n",
       "      <td>b'fffffffd'</td>\n",
       "      <td>2</td>\n",
       "      <td>3</td>\n",
       "      <td>...</td>\n",
       "      <td>b'cf43350ae1764f1be09f999850cb1662b80c551f28c2...</td>\n",
       "      <td>20.10.2021 17:25</td>\n",
       "      <td>1634768756</td>\n",
       "      <td>386794504</td>\n",
       "      <td>3936647432</td>\n",
       "      <td>4652</td>\n",
       "      <td>2021-10-20</td>\n",
       "      <td>17:25:00</td>\n",
       "      <td>1.451943</td>\n",
       "      <td>17</td>\n",
       "    </tr>\n",
       "    <tr>\n",
       "      <th>4</th>\n",
       "      <td>2</td>\n",
       "      <td>1</td>\n",
       "      <td>b'1d5d7762e9f2b460ff1a2fb544472902bfc8b747650f...</td>\n",
       "      <td>b'00000005'</td>\n",
       "      <td>0</td>\n",
       "      <td>b''</td>\n",
       "      <td>b''</td>\n",
       "      <td>b'fffffffd'</td>\n",
       "      <td>2</td>\n",
       "      <td>7</td>\n",
       "      <td>...</td>\n",
       "      <td>b'cf43350ae1764f1be09f999850cb1662b80c551f28c2...</td>\n",
       "      <td>20.10.2021 17:25</td>\n",
       "      <td>1634768756</td>\n",
       "      <td>386794504</td>\n",
       "      <td>3936647432</td>\n",
       "      <td>4652</td>\n",
       "      <td>2021-10-20</td>\n",
       "      <td>17:25:00</td>\n",
       "      <td>1.451943</td>\n",
       "      <td>17</td>\n",
       "    </tr>\n",
       "  </tbody>\n",
       "</table>\n",
       "<p>5 rows × 33 columns</p>\n",
       "</div>"
      ],
      "text/plain": [
       "   input_version  input_count  \\\n",
       "0              1            1   \n",
       "1              1            2   \n",
       "2              1            2   \n",
       "3              2            1   \n",
       "4              2            1   \n",
       "\n",
       "                                 input_previous_hash input_out_id  \\\n",
       "0  b'00000000000000000000000000000000000000000000...  b'ffffffff'   \n",
       "1  b'2e0037aa4d7281abf72461f7eafa9b5ca5ae36c3e938...  b'00000022'   \n",
       "2  b'52ff18efe24832ddc25f14f6ef3e971288762ef94514...  b'00000000'   \n",
       "3  b'af78b46dc6f4582a4975d7476a5dbdd9846fbe66418f...  b'00000004'   \n",
       "4  b'1d5d7762e9f2b460ff1a2fb544472902bfc8b747650f...  b'00000005'   \n",
       "\n",
       "   input_script_length                         input_script_signature_raw  \\\n",
       "0                   85  b'037ac50a04769770612f2ffabe6d6dd42d77b302a018...   \n",
       "1                    0                                                b''   \n",
       "2                    0                                                b''   \n",
       "3                    0                                                b''   \n",
       "4                    0                                                b''   \n",
       "\n",
       "                              input_script_signature input_seq_no  \\\n",
       "0  b'037ac50a04769770612f2ffabe6d6dd42d77b302a018...  b'ffffffff'   \n",
       "1                                                b''  b'fffffffd'   \n",
       "2                                                b''  b'fffffffd'   \n",
       "3                                                b''  b'fffffffd'   \n",
       "4                                                b''  b'fffffffd'   \n",
       "\n",
       "   output_version  output_count  ...  \\\n",
       "0               1             4  ...   \n",
       "1               1             2  ...   \n",
       "2               1             2  ...   \n",
       "3               2             3  ...   \n",
       "4               2             7  ...   \n",
       "\n",
       "                                          block_hash    block_datetime  \\\n",
       "0  b'cf43350ae1764f1be09f999850cb1662b80c551f28c2...  20.10.2021 17:25   \n",
       "1  b'cf43350ae1764f1be09f999850cb1662b80c551f28c2...  20.10.2021 17:25   \n",
       "2  b'cf43350ae1764f1be09f999850cb1662b80c551f28c2...  20.10.2021 17:25   \n",
       "3  b'cf43350ae1764f1be09f999850cb1662b80c551f28c2...  20.10.2021 17:25   \n",
       "4  b'cf43350ae1764f1be09f999850cb1662b80c551f28c2...  20.10.2021 17:25   \n",
       "\n",
       "  block_timestamp block_bits block_nonce  block_transactions_count  \\\n",
       "0      1634768756  386794504  3936647432                      4652   \n",
       "1      1634768756  386794504  3936647432                      4652   \n",
       "2      1634768756  386794504  3936647432                      4652   \n",
       "3      1634768756  386794504  3936647432                      4652   \n",
       "4      1634768756  386794504  3936647432                      4652   \n",
       "\n",
       "   block_date block_time block_size_MB  block_hour  \n",
       "0  2021-10-20   17:25:00      1.451943          17  \n",
       "1  2021-10-20   17:25:00      1.451943          17  \n",
       "2  2021-10-20   17:25:00      1.451943          17  \n",
       "3  2021-10-20   17:25:00      1.451943          17  \n",
       "4  2021-10-20   17:25:00      1.451943          17  \n",
       "\n",
       "[5 rows x 33 columns]"
      ]
     },
     "execution_count": 73,
     "metadata": {},
     "output_type": "execute_result"
    }
   ],
   "source": [
    "blocks_df.head()"
   ]
  },
  {
   "cell_type": "code",
   "execution_count": 90,
   "id": "65c961d4",
   "metadata": {},
   "outputs": [
    {
     "data": {
      "text/plain": [
       "Index(['input_version', 'input_count', 'input_previous_hash', 'input_out_id',\n",
       "       'input_script_length', 'input_script_signature_raw',\n",
       "       'input_script_signature', 'input_seq_no', 'output_version',\n",
       "       'output_count', 'output_value', 'output_script_length',\n",
       "       'output_script_signature_raw', 'output_script_signature',\n",
       "       'output_address', 'lock_time_block_height', 'time_stamp',\n",
       "       'witness_item', 'hash_transaction', 'version', 'magic_number',\n",
       "       'block_size', 'merkle_hash', 'block_hash', 'block_datetime',\n",
       "       'block_timestamp', 'block_bits', 'block_nonce',\n",
       "       'block_transactions_count', 'block_date', 'block_time', 'block_size_MB',\n",
       "       'block_hour'],\n",
       "      dtype='object')"
      ]
     },
     "execution_count": 90,
     "metadata": {},
     "output_type": "execute_result"
    }
   ],
   "source": [
    "blocks_df.columns"
   ]
  },
  {
   "cell_type": "code",
   "execution_count": null,
   "id": "35da09ba",
   "metadata": {},
   "outputs": [],
   "source": [
    "blocks_df = blocks_df.rename(columns = {'block_time':'block_datetime'})\n",
    "blocks_df['block_date'] = pd.to_datetime(blocks_df['block_datetime']).dt.date\n",
    "blocks_df['block_time'] = pd.to_datetime(blocks_df['block_datetime']).dt.time\n",
    "blocks_df['block_size_MB'] = blocks_df['block_size']/10**6\n",
    "blocks_df['block_hour'] = blocks_df['block_time'].apply(lambda i:i.hour)"
   ]
  },
  {
   "cell_type": "code",
   "execution_count": 35,
   "id": "d5edbe80",
   "metadata": {},
   "outputs": [
    {
     "data": {
      "text/html": [
       "<div>\n",
       "<style scoped>\n",
       "    .dataframe tbody tr th:only-of-type {\n",
       "        vertical-align: middle;\n",
       "    }\n",
       "\n",
       "    .dataframe tbody tr th {\n",
       "        vertical-align: top;\n",
       "    }\n",
       "\n",
       "    .dataframe thead th {\n",
       "        text-align: right;\n",
       "    }\n",
       "</style>\n",
       "<table border=\"1\" class=\"dataframe\">\n",
       "  <thead>\n",
       "    <tr style=\"text-align: right;\">\n",
       "      <th></th>\n",
       "      <th>block_size</th>\n",
       "      <th>block_time</th>\n",
       "    </tr>\n",
       "  </thead>\n",
       "  <tbody>\n",
       "    <tr>\n",
       "      <th>0</th>\n",
       "      <td>1451943</td>\n",
       "      <td>20.10.2021 17:25</td>\n",
       "    </tr>\n",
       "    <tr>\n",
       "      <th>6267</th>\n",
       "      <td>1199478</td>\n",
       "      <td>20.10.2021 18:22</td>\n",
       "    </tr>\n",
       "    <tr>\n",
       "      <th>10570</th>\n",
       "      <td>1314740</td>\n",
       "      <td>20.10.2021 18:18</td>\n",
       "    </tr>\n",
       "    <tr>\n",
       "      <th>15380</th>\n",
       "      <td>1328482</td>\n",
       "      <td>20.10.2021 17:23</td>\n",
       "    </tr>\n",
       "    <tr>\n",
       "      <th>22865</th>\n",
       "      <td>424</td>\n",
       "      <td>20.10.2021 17:21</td>\n",
       "    </tr>\n",
       "  </tbody>\n",
       "</table>\n",
       "</div>"
      ],
      "text/plain": [
       "       block_size        block_time\n",
       "0         1451943  20.10.2021 17:25\n",
       "6267      1199478  20.10.2021 18:22\n",
       "10570     1314740  20.10.2021 18:18\n",
       "15380     1328482  20.10.2021 17:23\n",
       "22865         424  20.10.2021 17:21"
      ]
     },
     "execution_count": 35,
     "metadata": {},
     "output_type": "execute_result"
    }
   ],
   "source": [
    "size = blocks_df[['block_size','block_time']]\n",
    "size = size.drop_duplicates()\n",
    "size = size.rename(columns = {'block_time':'block_datetime'})\n",
    "size['block_date'] = pd.to_datetime(size['block_datetime']).dt.date\n",
    "size['block_time'] = pd.to_datetime(size['block_datetime']).dt.time\n",
    "size['block_size_MB'] = size['block_size']/10**6\n",
    "size.head()"
   ]
  },
  {
   "cell_type": "code",
   "execution_count": 36,
   "id": "aad8208b",
   "metadata": {},
   "outputs": [
    {
     "name": "stdout",
     "output_type": "stream",
     "text": [
      "Average Block Size (MB): 1.4636185494505496\n"
     ]
    }
   ],
   "source": [
    "print(\"Average Block Size (MB):\",\n",
    "      str((size['block_size'].sum()/size['block_size'].shape[0])/10**6))"
   ]
  },
  {
   "cell_type": "code",
   "execution_count": 59,
   "id": "0d50350f",
   "metadata": {},
   "outputs": [],
   "source": [
    "size['block_hour'] = size['block_time'].apply(lambda i:i.hour)"
   ]
  },
  {
   "cell_type": "code",
   "execution_count": 84,
   "id": "6c1f19ed",
   "metadata": {},
   "outputs": [
    {
     "data": {
      "text/plain": [
       "<AxesSubplot:xlabel='block_date'>"
      ]
     },
     "execution_count": 84,
     "metadata": {},
     "output_type": "execute_result"
    },
    {
     "data": {
      "image/png": "[encoded data removed]",
      "text/plain": [
       "<Figure size 432x288 with 1 Axes>"
      ]
     },
     "metadata": {
      "needs_background": "light"
     },
     "output_type": "display_data"
    }
   ],
   "source": [
    "size[['block_size','block_date']].groupby('block_date').mean().plot(kind='bar')"
   ]
  },
  {
   "cell_type": "code",
   "execution_count": 70,
   "id": "3d5dbc15",
   "metadata": {},
   "outputs": [
    {
     "data": {
      "text/plain": [
       "<AxesSubplot:xlabel='block_hour'>"
      ]
     },
     "execution_count": 70,
     "metadata": {},
     "output_type": "execute_result"
    },
    {
     "data": {
      "image/png": "[encoded data removed]",
      "text/plain": [
       "<Figure size 432x288 with 1 Axes>"
      ]
     },
     "metadata": {
      "needs_background": "light"
     },
     "output_type": "display_data"
    }
   ],
   "source": [
    "size[['block_size','block_hour']].groupby('block_hour').mean().plot(kind='bar')"
   ]
  },
  {
   "cell_type": "code",
   "execution_count": 101,
   "id": "c4e6d236",
   "metadata": {},
   "outputs": [],
   "source": [
    "trans_value = blocks_df[['output_address','output_value']].groupby('output_address').sum()"
   ]
  },
  {
   "cell_type": "code",
   "execution_count": 99,
   "id": "1667b670",
   "metadata": {},
   "outputs": [
    {
     "data": {
      "text/html": [
       "<div>\n",
       "<style scoped>\n",
       "    .dataframe tbody tr th:only-of-type {\n",
       "        vertical-align: middle;\n",
       "    }\n",
       "\n",
       "    .dataframe tbody tr th {\n",
       "        vertical-align: top;\n",
       "    }\n",
       "\n",
       "    .dataframe thead th {\n",
       "        text-align: right;\n",
       "    }\n",
       "</style>\n",
       "<table border=\"1\" class=\"dataframe\">\n",
       "  <thead>\n",
       "    <tr style=\"text-align: right;\">\n",
       "      <th></th>\n",
       "      <th>output_value</th>\n",
       "    </tr>\n",
       "    <tr>\n",
       "      <th>hash_transaction</th>\n",
       "      <th></th>\n",
       "    </tr>\n",
       "  </thead>\n",
       "  <tbody>\n",
       "    <tr>\n",
       "      <th>b'f1d2758f0c51bddd7cc0b15ac40861c303e359d6f9868464382d5678e9068ac0'</th>\n",
       "      <td>0.000000e+00</td>\n",
       "    </tr>\n",
       "    <tr>\n",
       "      <th>b'3d2942afa4c6ff3d800903f84f0bfeeb60bb81fff990fda4b170292c796d2a7a'</th>\n",
       "      <td>0.000000e+00</td>\n",
       "    </tr>\n",
       "    <tr>\n",
       "      <th>b'd034e9f9e7fdc012ca79d74a97bf803f01ea973d9547bf3acc08a965433bc29e'</th>\n",
       "      <td>0.000000e+00</td>\n",
       "    </tr>\n",
       "    <tr>\n",
       "      <th>b'239855b61f45eb3d07bdc037414f011bd837d31eaa57a343666222fbd953f762'</th>\n",
       "      <td>0.000000e+00</td>\n",
       "    </tr>\n",
       "    <tr>\n",
       "      <th>b'eec2de850bb48736a684125222bcf3cd0129695046087817e9890a59b27d9f83'</th>\n",
       "      <td>0.000000e+00</td>\n",
       "    </tr>\n",
       "    <tr>\n",
       "      <th>...</th>\n",
       "      <td>...</td>\n",
       "    </tr>\n",
       "    <tr>\n",
       "      <th>b'7c46aed5c00dce14e21e26b682e2d28eaf5fc9249a84b3541d622a893f11de6e'</th>\n",
       "      <td>3.153144e+06</td>\n",
       "    </tr>\n",
       "    <tr>\n",
       "      <th>b'41aab41f67539a23ffa3abf1d4560f6be67cde9d66f884a1f7a72c90712f86e4'</th>\n",
       "      <td>3.922690e+06</td>\n",
       "    </tr>\n",
       "    <tr>\n",
       "      <th>b'bd94b07e2dfaed181e68f92ba0ea41280e346ae0c2db9314cd58e34929365985'</th>\n",
       "      <td>5.281604e+06</td>\n",
       "    </tr>\n",
       "    <tr>\n",
       "      <th>b'4767dfd64eed73bf15ea576a8a8dd580b9ed43e059a094d3e7f8b1cb5fd14998'</th>\n",
       "      <td>1.191732e+07</td>\n",
       "    </tr>\n",
       "    <tr>\n",
       "      <th>b'708b17c44805054e0b5c2330d09d3272e8cebfa51bc5d2f8624efe061cf3213f'</th>\n",
       "      <td>7.620590e+07</td>\n",
       "    </tr>\n",
       "  </tbody>\n",
       "</table>\n",
       "<p>176912 rows × 1 columns</p>\n",
       "</div>"
      ],
      "text/plain": [
       "                                                    output_value\n",
       "hash_transaction                                                \n",
       "b'f1d2758f0c51bddd7cc0b15ac40861c303e359d6f9868...  0.000000e+00\n",
       "b'3d2942afa4c6ff3d800903f84f0bfeeb60bb81fff990f...  0.000000e+00\n",
       "b'd034e9f9e7fdc012ca79d74a97bf803f01ea973d9547b...  0.000000e+00\n",
       "b'239855b61f45eb3d07bdc037414f011bd837d31eaa57a...  0.000000e+00\n",
       "b'eec2de850bb48736a684125222bcf3cd0129695046087...  0.000000e+00\n",
       "...                                                          ...\n",
       "b'7c46aed5c00dce14e21e26b682e2d28eaf5fc9249a84b...  3.153144e+06\n",
       "b'41aab41f67539a23ffa3abf1d4560f6be67cde9d66f88...  3.922690e+06\n",
       "b'bd94b07e2dfaed181e68f92ba0ea41280e346ae0c2db9...  5.281604e+06\n",
       "b'4767dfd64eed73bf15ea576a8a8dd580b9ed43e059a09...  1.191732e+07\n",
       "b'708b17c44805054e0b5c2330d09d3272e8cebfa51bc5d...  7.620590e+07\n",
       "\n",
       "[176912 rows x 1 columns]"
      ]
     },
     "execution_count": 99,
     "metadata": {},
     "output_type": "execute_result"
    }
   ],
   "source": [
    "trans_value.sort_values('output_value')"
   ]
  },
  {
   "cell_type": "code",
   "execution_count": null,
   "id": "a54788c7",
   "metadata": {},
   "outputs": [],
   "source": []
  }
 ],
 "metadata": {
  "kernelspec": {
   "display_name": "Python 3 (ipykernel)",
   "language": "python",
   "name": "python3"
  },
  "language_info": {
   "codemirror_mode": {
    "name": "ipython",
    "version": 3
   },
   "file_extension": ".py",
   "mimetype": "text/x-python",
   "name": "python",
   "nbconvert_exporter": "python",
   "pygments_lexer": "ipython3",
   "version": "3.8.11"
  }
 },
 "nbformat": 4,
 "nbformat_minor": 5
}
